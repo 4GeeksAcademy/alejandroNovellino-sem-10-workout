{
 "cells": [
  {
   "cell_type": "markdown",
   "id": "cb6a41e5-0f20-4f48-af6a-9bd9b2d0463b",
   "metadata": {},
   "source": [
    "# 🚀 Guía Paso a Paso para Crear un Modelo de Machine Learning (Inteligencia Artificial)\n",
    "\n",
    "## 1. 🎯 Definir el problema  \n",
    "## 2. 📥 Recolectar los datos  \n",
    "## 3. 🧪 Explorar y entender los datos (EDA)  \n",
    "## 4. 🧹 Preprocesar los datos  \n",
    "## 5. 🧠 Seleccionar el modelo  \n",
    "## 6. 🏋️‍♂️ Entrenar el modelo  \n",
    "## 7. 📊 Evaluar el modelo  \n",
    "## 8. 🛠️ Ajuste de hiperparámetros  \n",
    "## 9. 💾 Guardar el modelo  \n",
    "## 10. 🔮 Hacer predicciones  \n"
   ]
  },
  {
   "cell_type": "code",
   "execution_count": null,
   "id": "c72b86f9-f835-4aa7-9918-a45814d2d5c2",
   "metadata": {},
   "outputs": [],
   "source": []
  }
 ],
 "metadata": {
  "kernelspec": {
   "display_name": "Python 3 (ipykernel)",
   "language": "python",
   "name": "python3"
  },
  "language_info": {
   "codemirror_mode": {
    "name": "ipython",
    "version": 3
   },
   "file_extension": ".py",
   "mimetype": "text/x-python",
   "name": "python",
   "nbconvert_exporter": "python",
   "pygments_lexer": "ipython3",
   "version": "3.12.7"
  }
 },
 "nbformat": 4,
 "nbformat_minor": 5
}
